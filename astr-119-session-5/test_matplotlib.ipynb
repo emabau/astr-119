{
 "cells": [
  {
   "cell_type": "code",
   "execution_count": null,
   "id": "e9a7e3a8",
   "metadata": {},
   "outputs": [],
   "source": [
    "%matplotlib inline \n",
    "import numpy as np\n",
    "import matplotlib.pyplot as plt"
   ]
  },
  {
   "cell_type": "code",
   "execution_count": null,
   "id": "482b1c36",
   "metadata": {},
   "outputs": [],
   "source": [
    "x=np.arange(0,5,0.1) #create x=[0...5] in .1 increments \n",
    "y=np.sin(x)          # y=sin(x)\n",
    "plt.plot(x,y)        # make a plot \n",
    "plt.xlabel('x')      # x axis \n",
    "plt.ylabel('sin(x)') # y axis\n",
    "plt.show()           # show the plot on the screen \n"
   ]
  },
  {
   "cell_type": "code",
   "execution_count": null,
   "id": "3303b51f",
   "metadata": {},
   "outputs": [],
   "source": [
    "x=np.arange(0,5,0.1) #create x=[0...5] in .1 increments \n",
    "y=np.sin(x)          # y=sin(x)\n",
    "plt.plot(x,y)        # make a plot \n",
    "plt.xlabel('x')      # x axis \n",
    "plt.ylabel('sin(x)') # y axis\n",
    "plt.savefig('sinx.png', bbox_inches=\"tight\",dpi=600)"
   ]
  },
  {
   "cell_type": "code",
   "execution_count": null,
   "id": "5813d187",
   "metadata": {},
   "outputs": [],
   "source": []
  }
 ],
 "metadata": {
  "kernelspec": {
   "display_name": "Python 3 (ipykernel)",
   "language": "python",
   "name": "python3"
  },
  "language_info": {
   "codemirror_mode": {
    "name": "ipython",
    "version": 3
   },
   "file_extension": ".py",
   "mimetype": "text/x-python",
   "name": "python",
   "nbconvert_exporter": "python",
   "pygments_lexer": "ipython3",
   "version": "3.9.7"
  }
 },
 "nbformat": 4,
 "nbformat_minor": 5
}
