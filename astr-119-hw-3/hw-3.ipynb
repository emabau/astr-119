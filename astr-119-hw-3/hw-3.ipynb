{
 "cells": [
  {
   "cell_type": "code",
   "execution_count": null,
   "id": "39fc32e6",
   "metadata": {},
   "outputs": [],
   "source": [
    "%matplotlib inline\n",
    "import numpy as np\n",
    "import matplotlib.pyplot as plt\n"
   ]
  },
  {
   "cell_type": "code",
   "execution_count": null,
   "id": "59d91ab0",
   "metadata": {},
   "outputs": [],
   "source": [
    "x=np.linspace(0,2*np.pi,1000)  #create x=[0...2*pi] with 1000 values \n",
    "a=5.5*np.cos(2*x)+5.5\n",
    "b=0.02*np.exp(x)\n",
    "c=0.25*(x**2)+0.1*np.sin(10*x)"
   ]
  },
  {
   "cell_type": "code",
   "execution_count": null,
   "id": "7d286a1b",
   "metadata": {},
   "outputs": [],
   "source": [
    "plt.xlabel('Time in Astr 119')       #x axis \n",
    "plt.ylabel('Measure of Awesomeness') #y axis\n",
    "plt.xlim([0,2*np.pi])                #set x range (0,2pi)\n",
    "plt.ylim([-1,10])                    #set y range (-1,10)\n",
    "plt.plot(x, a, 'r')                  # plotting (x,a) \n",
    "plt.plot(x, b, 'b')                  # plotting (x,b) \n",
    "plt.plot(x, c, 'g')                  # plotting (x,c)       \n",
    "plt.show()"
   ]
  },
  {
   "cell_type": "code",
   "execution_count": null,
   "id": "a3406dcf",
   "metadata": {},
   "outputs": [],
   "source": []
  },
  {
   "cell_type": "code",
   "execution_count": null,
   "id": "bd5f92ce",
   "metadata": {},
   "outputs": [],
   "source": []
  }
 ],
 "metadata": {
  "kernelspec": {
   "display_name": "Python 3 (ipykernel)",
   "language": "python",
   "name": "python3"
  },
  "language_info": {
   "codemirror_mode": {
    "name": "ipython",
    "version": 3
   },
   "file_extension": ".py",
   "mimetype": "text/x-python",
   "name": "python",
   "nbconvert_exporter": "python",
   "pygments_lexer": "ipython3",
   "version": "3.9.7"
  }
 },
 "nbformat": 4,
 "nbformat_minor": 5
}
