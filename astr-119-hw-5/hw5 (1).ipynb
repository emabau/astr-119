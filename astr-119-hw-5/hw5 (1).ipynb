{
 "cells": [
  {
   "cell_type": "code",
   "execution_count": null,
   "id": "c6585080",
   "metadata": {},
   "outputs": [],
   "source": [
    "%matplotlib inline\n",
    "import numpy as np \n",
    "import matplotlib.pyplot as plt "
   ]
  },
  {
   "cell_type": "code",
   "execution_count": null,
   "id": "394e8a36",
   "metadata": {},
   "outputs": [],
   "source": [
    "def func(x):\n",
    "    a = -2 \n",
    "    b = 10 \n",
    "    return np.exp(a*x)*np.cos(b*x)"
   ]
  },
  {
   "cell_type": "code",
   "execution_count": null,
   "id": "e6205009",
   "metadata": {},
   "outputs": [],
   "source": [
    "def func_integral(x):\n",
    "    a = -2 \n",
    "    b = 10 \n",
    "    c = 52\n",
    "    return (np.exp(a*x)*((b/2)*np.sin(b*x)-np.cos(b*x)))/c"
   ]
  },
  {
   "cell_type": "code",
   "execution_count": null,
   "id": "09207d97",
   "metadata": {},
   "outputs": [],
   "source": [
    "def trapezoid_core(f,x,h):\n",
    "    return 0.5*h*(f(x+h) + f(x))"
   ]
  },
  {
   "cell_type": "code",
   "execution_count": null,
   "id": "bffd564d",
   "metadata": {},
   "outputs": [],
   "source": [
    "def trapezoid_method(f,a,b,N):\n",
    "    # f == function to integrate \n",
    "    # a == lower limit \n",
    "    # b == upper limit \n",
    "    # N == number of function evaluations to use \n",
    "    \n",
    "    # define x values to perform trapezoid rule\n",
    "    x = np.linspace(a,b,N)\n",
    "    h = x[1]-x[0]\n",
    "    \n",
    "    #define the value of the integral \n",
    "    Fint = 0.0\n",
    "    \n",
    "    #perform the integral using trapezoid method\n",
    "    for i in range(0,len(x)-1,1):\n",
    "        Fint += trapezoid_core(f,x[i],h)\n",
    "        \n",
    "    #return answer \n",
    "    return Fint"
   ]
  },
  {
   "cell_type": "code",
   "execution_count": null,
   "id": "cf41fa55",
   "metadata": {},
   "outputs": [],
   "source": [
    "def simpson_core(f,x,h):\n",
    "    return h*( f(x) + 4*f(x+h) + f(x+2*h))/3."
   ]
  },
  {
   "cell_type": "code",
   "execution_count": null,
   "id": "b63deae2",
   "metadata": {},
   "outputs": [],
   "source": [
    "def simpsons_method(f,a,b,N):\n",
    "    # f == function to integrate \n",
    "    # a == lower limit \n",
    "    # b == upper limit \n",
    "    # N == number of function evaluations to use\n",
    "    # number of chunks will be N-1 \n",
    "    #(so if N odd, last segment needn't be adjusted)\n",
    "    \n",
    "    # define x values to perform trapezoid rule\n",
    "    x = np.linspace(a,b,N)\n",
    "    h = x[1]-x[0]\n",
    "    \n",
    "    #define value of integral\n",
    "    Fint = 0.0\n",
    "    \n",
    "    #perform integral using simpson's method \n",
    "    for i in range(0,len(x)-2,2):\n",
    "        Fint += simpson_core(f,x[i],h)\n",
    "        \n",
    "    #apply simpson's rule over the last interval\n",
    "    #if N is even \n",
    "    if((N%2)==0):\n",
    "        Fint += simpson_core(f,x[-2],0.5*h)\n",
    "        \n",
    "    return Fint "
   ]
  },
  {
   "cell_type": "code",
   "execution_count": null,
   "id": "00ec71ad",
   "metadata": {},
   "outputs": [],
   "source": [
    "def romberg_core(f,a,b,i):\n",
    "    \n",
    "    #we need difference b-a \n",
    "    h = b-a \n",
    "    \n",
    "    #and the increment between new func evals \n",
    "    dh = h/2.**(i)\n",
    "    \n",
    "    #we need the cofactor \n",
    "    K = h/2.**(i+1)\n",
    "    \n",
    "    #and function evaluations \n",
    "    M = 0.0\n",
    "    for j in range(2**i):\n",
    "        M += f(a + 0.5*dh + j*dh)\n",
    "        \n",
    "    #return answer \n",
    "    return K*M"
   ]
  },
  {
   "cell_type": "code",
   "execution_count": null,
   "id": "f1c4cb46",
   "metadata": {},
   "outputs": [],
   "source": [
    "def romberg_integration(f,a,b,tol):\n",
    "    \n",
    "    #define an iteration variable \n",
    "    i = 0\n",
    "    \n",
    "    #define a max number of iterations \n",
    "    imax = 1000\n",
    "    \n",
    "    #define error estimate\n",
    "    delta = 100.0*np.fabs(tol)\n",
    "    \n",
    "    #set an array of integral answers \n",
    "    I = np.zeros(imax,dtype=float)\n",
    "    \n",
    "    #get the zeroth romberg iteraion\n",
    "    I[0] = 0.5*(b-a)*(f(a) + f(b))\n",
    "    \n",
    "    #iterate by 1 \n",
    "    i += 1\n",
    "    \n",
    "    while(delta>tol):\n",
    "        \n",
    "        #find this romberg iteration\n",
    "        I[i] = 0.5*I[i-1] + romberg_core(f,a,b,i)\n",
    "        \n",
    "        #compute new fractional error estimate \n",
    "        delta = np.fabs((I[i]-I[i-1])/I[i])\n",
    "        \n",
    "        print(i,I[i],I[i-1],delta)\n",
    " \n",
    "        if(delta>tol):\n",
    "            \n",
    "            #iterate\n",
    "            i+=1\n",
    "            \n",
    "            #if we've reached max iterations \n",
    "            if(i>imax):\n",
    "                print(\"Max iterations reached.\")\n",
    "                raise StopIteration('Stopping iterations after ',i)\n",
    "                \n",
    "    #return answer \n",
    "    return I[i]"
   ]
  },
  {
   "cell_type": "code",
   "execution_count": null,
   "id": "612f8023",
   "metadata": {
    "scrolled": true
   },
   "outputs": [],
   "source": [
    "Answer = func_integral(np.pi)-func_integral(0)\n",
    "print(Answer)\n",
    "\n",
    "print(\"Trapezoid\")\n",
    "TM=trapezoid_method(func,0,np.pi,9200)\n",
    "print(TM)\n",
    "\n",
    "print(\"Simpson's Method\")\n",
    "SM=simpsons_method(func,0,np.pi,360)\n",
    "print(SM)\n",
    "\n",
    "print(\"Romberg\")\n",
    "tolerance = 1.0e-6\n",
    "RI = romberg_integration(func,0,np.pi,tolerance)\n",
    "print(RI, ((RI-Answer)/Answer), tolerance)"
   ]
  },
  {
   "cell_type": "code",
   "execution_count": null,
   "id": "5c328005",
   "metadata": {},
   "outputs": [],
   "source": [
    "print('Trapezoid Method requires' m ' intervals to reach specific accuracy')\n",
    "trapezoid_accuracy=(TM-Answer)/Answer\n",
    "print(trapezoid_accuracy)\n",
    "\n",
    "print(\"Simpson's Method requires 360 intervals to reach specified accuracy\")\n",
    "simpson_accuracy=(SM-Answer)/Answer\n",
    "print(simpson_accuracy)\n",
    "\n",
    "print(\"Romberg integration requires 26 iterations to reach specified accuracy\")\n"
   ]
  },
  {
   "cell_type": "code",
   "execution_count": null,
   "id": "9172695f",
   "metadata": {},
   "outputs": [],
   "source": []
  }
 ],
 "metadata": {
  "kernelspec": {
   "display_name": "Python 3 (ipykernel)",
   "language": "python",
   "name": "python3"
  },
  "language_info": {
   "codemirror_mode": {
    "name": "ipython",
    "version": 3
   },
   "file_extension": ".py",
   "mimetype": "text/x-python",
   "name": "python",
   "nbconvert_exporter": "python",
   "pygments_lexer": "ipython3",
   "version": "3.9.7"
  }
 },
 "nbformat": 4,
 "nbformat_minor": 5
}
