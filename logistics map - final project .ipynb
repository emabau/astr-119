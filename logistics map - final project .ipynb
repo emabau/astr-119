{
 "cells": [
  {
   "cell_type": "code",
   "execution_count": null,
   "id": "c883e772",
   "metadata": {
    "scrolled": false
   },
   "outputs": [],
   "source": [
    "import numpy as np                 # import numpy for calculations\n",
    "import matplotlib.pyplot as plt    # import matplotlib to create graph\n",
    "%matplotlib inline"
   ]
  },
  {
   "cell_type": "code",
   "execution_count": null,
   "id": "3d114be2",
   "metadata": {
    "scrolled": false
   },
   "outputs": [],
   "source": [
    "r_min, r_max = [.70, 1.00]   # set of r values \n",
    "step=.01                     # increment between r values \n",
    "n = 100                      # generations over which to run logistics map \n",
    "l=0.0                        # set up lyapunov exp as a float\n",
    "le=[]                        # create array to contain lyapunov exp values (for each r)\n",
    "r_zero=[]                    # create array to contain r values (where le=0)"
   ]
  },
  {
   "cell_type": "code",
   "execution_count": null,
   "id": "9ea121ca",
   "metadata": {},
   "outputs": [],
   "source": [
    "r = np.arange(r_min,r_max,step)       # create fxn to run r \n",
    "f, axarr = plt.subplots(1,2)          # create two subplots (for x_n and le)\n",
    "\n",
    "for i in range(len(r)):               # run a loop through each value of r \n",
    "    x = 0.65                          # reset x=.65 for each value of r                    \n",
    "    l_arr=[]                          # reset empty array to contain all values to be summed (to get Lyapunov exp)\n",
    "    \n",
    "    for j in range(n):                # run a loop to calculate x for each generation \n",
    "      \n",
    "        l=np.log(abs(4*r[i]*(1-2*x))) # fxn to calculate lyapunov exp for r[i]\n",
    "        l_arr.append(l)               # append array to contain all values (to get Lyapunov exp) for r[i]\n",
    "        \n",
    "        x = 4*r[i]*x*(1-x)            # calculate x values corresponding to r[i] over x_n generations \n",
    "        axarr[0].plot(r[i],x,'o', markersize=2, color=\"orangered\" ) #plot x_i vs r\n",
    "\n",
    "    le.append(np.mean(l_arr))         # use mean to find Lyapunox exp for each r value \n",
    "    if abs(le[i])<.03:                # append r_zero array to contain all r values for which \n",
    "            r_zero.append(r[i])       # Lyapunov exp is approx zero\n",
    "    \n",
    "    axarr[0].set_title('logistics map')     #title and axes for subplot 0, x_n vs r \n",
    "    axarr[0].set_xlabel('r value')\n",
    "    axarr[0].set_ylabel('x values')\n",
    "    \n",
    "axarr[1].plot(r,le)                    # plot, title and axes for subplot 1, Lyapunov exp vs r \n",
    "axarr[1].set_xlabel('r value')\n",
    "axarr[1].set_ylabel('lyapunov exponent')\n",
    "axarr[1].set_title('rate of divergence')\n",
    "        \n",
    "f.subplots_adjust(wspace=0.4)           # create more space between plots \n",
    "    \n",
    "print('lambda is approximately 0 when r is ')  \n",
    "print(set(r_zero))"
   ]
  },
  {
   "cell_type": "code",
   "execution_count": null,
   "id": "4a25344a",
   "metadata": {
    "scrolled": false
   },
   "outputs": [],
   "source": [
    "for i in range(len(r)):            #calculate and plot x_n vs n for each value of r\n",
    "    x = 0.65\n",
    "    \n",
    "    for j in range(n):\n",
    "        \n",
    "        x = 4*r[i]*x*(1-x)  \n",
    "        plt.plot(j, x, marker='o', markersize=3, color ='orangered')  \n",
    "    \n",
    "    plt.title(str(r[i]))\n",
    "    plt.xlabel('n generations')\n",
    "    plt.ylabel('x values')    \n",
    "    plt.show()\n"
   ]
  },
  {
   "cell_type": "code",
   "execution_count": null,
   "id": "05973d6a",
   "metadata": {},
   "outputs": [],
   "source": []
  }
 ],
 "metadata": {
  "kernelspec": {
   "display_name": "Python 3 (ipykernel)",
   "language": "python",
   "name": "python3"
  },
  "language_info": {
   "codemirror_mode": {
    "name": "ipython",
    "version": 3
   },
   "file_extension": ".py",
   "mimetype": "text/x-python",
   "name": "python",
   "nbconvert_exporter": "python",
   "pygments_lexer": "ipython3",
   "version": "3.9.7"
  }
 },
 "nbformat": 4,
 "nbformat_minor": 5
}
